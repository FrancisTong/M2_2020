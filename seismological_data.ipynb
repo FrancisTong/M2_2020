{
 "cells": [
  {
   "cell_type": "markdown",
   "metadata": {},
   "source": [
    "## <center> *Python based computer labs for*</center>\n",
    "# <center> Introduction to analysis and inversion of <br> SEIMOLOGICAL DATA </center>\n",
    "\n",
    "lecturer : Nikolai Shapiro <br>\n",
    "email: nikolai.shapiro@univ-grenoble-alpes.fr<br>\n",
    "<br>\n",
    "Main textbook for the class [An Introduction to Seismology, Earthquakes, and Earth Structure (Stein and Wysession)](http://levee.wustl.edu/seismology/book/)\n",
    "\n",
    "## Main Python packages used: \n",
    "\n",
    "- [**ObsPy**](https://github.com/obspy/obspy/wiki) : for downloading and basic analysis of seismic data\n",
    "\n",
    "- [**NumPy**](https://numpy.org) : for mathematical fuctions\n",
    "\n",
    "- [**Matplotlib**](https://matplotlib.org) : for plotting results\n",
    "\n",
    "---\n"
   ]
  },
  {
   "cell_type": "markdown",
   "metadata": {},
   "source": [
    "## Step 1: Downloading data\n",
    "\n",
    "### Searching information about earthquakes\n",
    "\n",
    "- [National Earthquake Information Center (NEIC USGS), USA](https://earthquake.usgs.gov/earthquakes/search)\n",
    "\n",
    "- [European-Mediterranean Seismological Centre (EMSC), France](https://www.emsc-csem.org)\n",
    "\n",
    "- ... other regional and national earthquake information cervices\n",
    "\n",
    "\n",
    "### Searching information about seismic networks and stations\n",
    "\n",
    "- [The International Federation of Digital Seismograph Networks (FDSN)](https://www.fdsn.org/about/)\n",
    "\n",
    "- [list of seimic networks with links to station maps and descriptions](https://www.fdsn.org/networks/)\n",
    "\n",
    "- [Searching statioins with Seismic Query of IRIS](https://ds.iris.edu/SeismiQuery/station.htm)\n",
    "\n",
    "- #### Some important global seismic networks\n",
    "\n",
    "    - [IU: Global Seismograph Network - IRIS/USGS](https://www.fdsn.org/networks/detail/IU/)\n",
    "\n",
    "    - [II: Global Seismograph Network - IRIS/IDA](https://www.fdsn.org/networks/detail/II/)\n",
    "\n",
    "    - [G: GEOSCOPE](https://www.fdsn.org/networks/detail/G/) (Web site at [IPGP](http://geoscope.ipgp.fr/index.php/en/stations/station-map))\n",
    "\n",
    "- #### Some interesting regional seismic networks\n",
    "\n",
    "    - [FR: RESIF and other broad-band and accelerometric permanent networks in metropolitan France](https://www.fdsn.org/networks/detail/FR/)\n",
    "\n",
    "    - [PF: Piton de la Fournaise Volcano Observatory Network (Reunion Island)](https://www.fdsn.org/networks/detail/PF/)\n",
    "\n",
    "    - [GL: Guadeloupe Seismic and Volcano Observatory Network](https://www.fdsn.org/networks/detail/GL/)\n",
    "\n",
    "    - [HV: Hawaiian Volcano Observatory Network](https://www.fdsn.org/networks/detail/HV/)\n",
    "\n",
    "    - [TA: USArray Transportable Array](https://www.fdsn.org/networks/detail/TA/)\n",
    "\n",
    "\n",
    "### Searching information about seismological data centers\n",
    "\n",
    "- [Data Centers Supporting FDSN Web Services](https://www.fdsn.org/webservices/datacenters/)\n",
    "\n",
    "- #### Some Internatioonal and French data centers\n",
    "\n",
    "    - [IRIS Data Management Center](https://ds.iris.edu/ds/nodes/dmc/)\n",
    "    \n",
    "    - [European Integrated Data Archive: EIDA](http://www.orfeus-eu.org/data/eida/)\n",
    "    \n",
    "    - [French seismological and geodetic network: RESIF](http://seismology.resif.fr)\n",
    "\n",
    "    - [IPGP data center](http://datacenter.ipgp.fr/data.php)\n",
    "\n",
    "\n",
    "### Data access tools\n",
    "\n",
    "- [FDSN Web Services](https://www.fdsn.org/webservices/)\n",
    "\n",
    "- [obspy.clients.fdsn - FDSN web service client for ObsPy](https://docs.obspy.org/packages/obspy.clients.fdsn.html)\n",
    "\n",
    "---"
   ]
  },
  {
   "cell_type": "markdown",
   "metadata": {},
   "source": [
    "## Possible examples of downloding data \n",
    "\n",
    "### [M 7.6 - 97 km SE of Sand Point, Alaska Earthquake](https://earthquake.usgs.gov/earthquakes/eventpage/us6000c9hg/executive)\n",
    "2020-10-19 20:54:39 (UTC)<br>\n",
    "Downloading 3 hours of vertical component recording (**HHZ** component) by station **OGCN** (network code: **FR**) from the **RESIF** data center<br>\n",
    "\n",
    "#### Some key python commands:\n",
    "```python\n",
    "tstart = UTCDateTime(\"2020-10-19T20:50:00.000\")\n",
    "t_duration = 3*60*60\n",
    "client = Client('RESIF')\n",
    "st1 = client.get_waveforms(\"FR\", \"OGCN\", \"*\", \"BHZ\", tstart, tstart + t_duration, attach_response=True)\n",
    "```\n",
    "\n",
    "---\n",
    "\n",
    "### [M 7.0 - 15 km NNE of Néon Karlovásion, Greece Earthquake](https://earthquake.usgs.gov/earthquakes/eventpage/us7000c7y0/executive)\n",
    "2020-10-30 11:51:27 (UTC)<br>\n",
    "Downloading 3 hours of vertical component recording (**HHZ** component) by station **OGCN** (network code: **FR**) from the **RESIF** data center<br>\n",
    "\n",
    "#### Some key python commands:\n",
    "```python\n",
    "tstart = UTCDateTime(\"2020-10-30T11:50:00.000\")\n",
    "t_duration = 3*60*60\n",
    "client = Client('RESIF')\n",
    "st1 = client.get_waveforms(\"FR\", \"OGCN\", \"*\", \"BHZ\", tstart, tstart + t_duration, attach_response=True)\n",
    "```\n",
    "\n",
    "---\n",
    "\n",
    "### [M 5.4 - 31 km SSE of Karyes, Greece Earthquake](https://earthquake.usgs.gov/earthquakes/eventpage/us6000c1rq/executive)\n",
    "2020-09-26 22:50:25 (UTC)<br>\n",
    "Downloading 1 hour of vertical component recording (**HHZ** component) by station **OGCN** (network code: **FR**) from the **RESIF** data center<br>\n",
    "\n",
    "#### Some key python commands:\n",
    "```python\n",
    "tstart = UTCDateTime(\"2020-09-26T22:40:00.000\")\n",
    "t_duration = 1*60*60\n",
    "client = Client('RESIF')\n",
    "st1 = client.get_waveforms(\"FR\", \"OGCN\", \"*\", \"BHZ\", tstart, tstart + t_duration, attach_response=True)\n",
    "```\n",
    "\n",
    "---\n",
    "\n",
    "\n"
   ]
  },
  {
   "cell_type": "code",
   "execution_count": 75,
   "metadata": {},
   "outputs": [
    {
     "data": {
      "application/vnd.jupyter.widget-view+json": {
       "model_id": "6221223ebd964652b5251618d12bc036",
       "version_major": 2,
       "version_minor": 0
      },
      "text/plain": [
       "Canvas(toolbar=Toolbar(toolitems=[('Home', 'Reset original view', 'home', 'home'), ('Back', 'Back to previous …"
      ]
     },
     "metadata": {},
     "output_type": "display_data"
    }
   ],
   "source": [
    "#------------------------ importing basic packages\n",
    "import matplotlib.pyplot as plt\n",
    "import numpy as np\n",
    "from scipy import signal\n",
    "#------------------------ importing ObsPy functions\n",
    "from obspy import read\n",
    "from obspy.clients.fdsn import Client\n",
    "from obspy import UTCDateTime\n",
    "\n",
    "#------------------ plotting mode\n",
    "%matplotlib widget\n",
    "#----------------------------\n",
    "\n",
    "    \n",
    "#------------------------ selecting an FDSN datacenter\n",
    "client = Client('RESIF')\n",
    "\n",
    "#---------------------------------------------------- defining start time for the data\n",
    "tstart = UTCDateTime(\"2020-09-26T22:40:00.000\")\n",
    "\n",
    "#-------------------- defining duration of the downloaded time series in sec (3 hours in this example)\n",
    "t_duration = 1*60*60\n",
    "\n",
    "\n",
    "#--------------- selecting network: FR\n",
    "#--------------- selecting station: OGCN\n",
    "#--------------- selecting component: HHZ\n",
    "#-------------- downloading data\n",
    "st1 = client.get_waveforms(\"FR\", \"OGCN\", \"*\", \"HHZ\", tstart, tstart + t_duration, attach_response=True)\n",
    "\n",
    "\n",
    "\n",
    "#-------------- extracting a trace from the stream\n",
    "s1 = st1[0]\n",
    "\n",
    "\n",
    "\n",
    "\n",
    "#------------ detrending time series\n",
    "st1.detrend()\n",
    "#st1.filter(\"bandpass\", freqmin=.02, freqmax=.1, corners=4, zerophase=True)\n",
    "\n",
    "#-------- plotting raw data\n",
    "dt = s1.stats.delta\n",
    "npts = s1.stats.npts\n",
    "time1 = dt*(np.linspace(1,npts,npts)-1)\n",
    "\n",
    "plt.figure()\n",
    "plt.plot(time1,s1.data)\n",
    "plt.title(s1.stats.station)\n",
    "plt.xlabel('time (s)')\n",
    "plt.ylabel('counts')\n",
    "plt.show()"
   ]
  },
  {
   "cell_type": "markdown",
   "metadata": {},
   "source": [
    "---\n",
    "\n",
    "## Step 2: Correcting the \"instrument response\"\n",
    "\n",
    "Downloaded \"raw data contain signal in digital \"counts\". For a physical interpretation of their amplitudes, we need to convert then into physical values such as ground displacement, velocity, or acceleration. This is done with using the ObsPy [*remove_response*](https://docs.obspy.org/packages/autogen/obspy.core.trace.Trace.remove_response.html#obspy.core.trace.Trace.remove_response) function:\n",
    "\n",
    "```python\n",
    "st1.remove_response(output='DISP', pre_filt=pre_filt)\n",
    "```\n",
    "\n",
    "where **output** field describes the ourput signal values:<br>\n",
    "**DISP** produce displacemetn in meters;\n",
    "**VEL** - velocity in m/s;\n",
    "**ACC** - acceleration in m/s2.<br>\n",
    "\n",
    "Conversion between these values can then be done with using integration and differentiation in time\n",
    "(ObsPy [*differentiate*](https://docs.obspy.org/packages/autogen/obspy.core.stream.Stream.differentiate.html) and [*integrate*](https://docs.obspy.org/packages/autogen/obspy.core.trace.Trace.integrate.html) functions).\n",
    "\n",
    "---"
   ]
  },
  {
   "cell_type": "code",
   "execution_count": 79,
   "metadata": {},
   "outputs": [
    {
     "data": {
      "application/vnd.jupyter.widget-view+json": {
       "model_id": "f9890e0046e04c12ba40c8ddf63d7e01",
       "version_major": 2,
       "version_minor": 0
      },
      "text/plain": [
       "Canvas(toolbar=Toolbar(toolitems=[('Home', 'Reset original view', 'home', 'home'), ('Back', 'Back to previous …"
      ]
     },
     "metadata": {},
     "output_type": "display_data"
    },
    {
     "data": {
      "application/vnd.jupyter.widget-view+json": {
       "model_id": "6bd4f7a95bb145d09cee39b756aa62c6",
       "version_major": 2,
       "version_minor": 0
      },
      "text/plain": [
       "Canvas(toolbar=Toolbar(toolitems=[('Home', 'Reset original view', 'home', 'home'), ('Back', 'Back to previous …"
      ]
     },
     "metadata": {},
     "output_type": "display_data"
    }
   ],
   "source": [
    "#------------------------ importing basic packages\n",
    "import matplotlib.pyplot as plt\n",
    "import numpy as np\n",
    "from scipy import signal\n",
    "#------------------------ importing ObsPy functions\n",
    "from obspy import read\n",
    "from obspy.clients.fdsn import Client\n",
    "from obspy import UTCDateTime\n",
    "\n",
    "#------------------ plotting mode\n",
    "%matplotlib widget\n",
    "#----------------------------\n",
    "\n",
    "\n",
    "#------------------ correcting for instrument response\n",
    "pre_filt = (0.003, 0.005, 30.0, 35.0)                   # defining spectral band\n",
    "st1.remove_response(output='DISP', pre_filt=pre_filt)\n",
    "\n",
    "#-------- plotting corrected displacement seismogram\n",
    "plt.figure()\n",
    "plt.plot(time1,s1.data)\n",
    "plt.title(s1.stats.station)\n",
    "plt.xlabel('time (s)')\n",
    "plt.ylabel('ground displacement (m)')\n",
    "plt.show()\n",
    "\n",
    "\n",
    "#-------- plotting velocity seismogram\n",
    "st1.differentiate()\n",
    "\n",
    "plt.figure()\n",
    "plt.plot(time1,s1.data)\n",
    "plt.title(s1.stats.station)\n",
    "plt.xlabel('time (s)')\n",
    "plt.ylabel('ground velocity (m/s)')\n",
    "plt.show()"
   ]
  },
  {
   "cell_type": "markdown",
   "metadata": {},
   "source": [
    "---\n",
    "\n",
    "## Step 3: Spectral analysis (Fourier transform)\n",
    "We use the Fast Fourier Transform (FFT) algorithm realized in a NumPy function [FFT](https://numpy.org/doc/stable/reference/generated/numpy.fft.fft.html).\n",
    "\n",
    "---"
   ]
  },
  {
   "cell_type": "code",
   "execution_count": 81,
   "metadata": {},
   "outputs": [
    {
     "data": {
      "application/vnd.jupyter.widget-view+json": {
       "model_id": "0fe2ee4756c0486bb5a8a03a6614e3c0",
       "version_major": 2,
       "version_minor": 0
      },
      "text/plain": [
       "Canvas(toolbar=Toolbar(toolitems=[('Home', 'Reset original view', 'home', 'home'), ('Back', 'Back to previous …"
      ]
     },
     "metadata": {},
     "output_type": "display_data"
    }
   ],
   "source": [
    "#------------------------ importing basic packages\n",
    "import matplotlib.pyplot as plt\n",
    "import numpy as np\n",
    "from scipy import signal\n",
    "#------------------------ importing ObsPy functions\n",
    "from obspy import read\n",
    "from obspy.clients.fdsn import Client\n",
    "from obspy import UTCDateTime\n",
    "\n",
    "#------------------ plotting mode\n",
    "%matplotlib widget\n",
    "#----------------------------\n",
    "\n",
    "spe1 = np.fft.fft(s1.data)\n",
    "freq = np.fft.fftfreq(npts,dt)\n",
    "speamp = np.sqrt(spe1.real**2+spe1.imag**2)\n",
    "nspec = int(npts/2)\n",
    "sa = speamp[0:nspec]\n",
    "fr = freq[0:nspec]\n",
    "\n",
    "plt.figure()\n",
    "plt.loglog(fr,sa)\n",
    "plt.xlim(.005,10)\n",
    "plt.show()"
   ]
  },
  {
   "cell_type": "code",
   "execution_count": null,
   "metadata": {},
   "outputs": [],
   "source": []
  }
 ],
 "metadata": {
  "kernelspec": {
   "display_name": "Python 3",
   "language": "python",
   "name": "python3"
  },
  "language_info": {
   "codemirror_mode": {
    "name": "ipython",
    "version": 3
   },
   "file_extension": ".py",
   "mimetype": "text/x-python",
   "name": "python",
   "nbconvert_exporter": "python",
   "pygments_lexer": "ipython3",
   "version": "3.8.3"
  }
 },
 "nbformat": 4,
 "nbformat_minor": 4
}
